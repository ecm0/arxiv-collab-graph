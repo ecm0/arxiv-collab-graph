{
 "cells": [
  {
   "cell_type": "code",
   "execution_count": 1,
   "metadata": {
    "collapsed": false
   },
   "outputs": [],
   "source": [
    "from nameparser import HumanName\n",
    "import pandas\n",
    "import numpy\n",
    "import itertools\n",
    "import collections\n",
    "import networkx as nx\n",
    "import matplotlib.pyplot as plt\n",
    "plt.rcParams['figure.figsize'] = [10, 10]"
   ]
  },
  {
   "cell_type": "markdown",
   "metadata": {},
   "source": [
    "### Read the data"
   ]
  },
  {
   "cell_type": "code",
   "execution_count": 2,
   "metadata": {
    "collapsed": false
   },
   "outputs": [
    {
     "name": "stderr",
     "output_type": "stream",
     "text": [
      "/home/ecm/arxiv-processing/arxiv_proc/lib/python3.5/site-packages/IPython/core/interactiveshell.py:3049: DtypeWarning: Columns (3) have mixed types. Specify dtype option on import or set low_memory=False.\n",
      "  interactivity=interactivity, compiler=compiler, result=result)\n"
     ]
    }
   ],
   "source": [
    "data = pandas.read_csv('gr-qc.tsv.xz', compression='xz', sep='\\t')"
   ]
  },
  {
   "cell_type": "code",
   "execution_count": 3,
   "metadata": {
    "collapsed": false
   },
   "outputs": [
    {
     "data": {
      "text/plain": [
       "Index(['Unnamed: 0', 'abstract', 'acm_class', 'arxiv_id', 'author_text',\n",
       "       'categories', 'comments', 'created', 'doi', 'num_authors',\n",
       "       'num_categories', 'primary_cat', 'title', 'updated', 'categories_list'],\n",
       "      dtype='object')"
      ]
     },
     "execution_count": 3,
     "metadata": {},
     "output_type": "execute_result"
    }
   ],
   "source": [
    "data.columns"
   ]
  },
  {
   "cell_type": "markdown",
   "metadata": {},
   "source": [
    "### Filter gravitational wave-related papers and exclude long-author-list collaboration papers"
   ]
  },
  {
   "cell_type": "code",
   "execution_count": 4,
   "metadata": {
    "collapsed": false
   },
   "outputs": [
    {
     "name": "stdout",
     "output_type": "stream",
     "text": [
      "selected 1818 articles\n"
     ]
    }
   ],
   "source": [
    "#searchfor = ['gravitational', 'wave']\n",
    "searchfor = ['gravitational wave']\n",
    "papers = data[((data['title'].str.contains('|'.join(searchfor))) | \\\n",
    "                  (data['abstract'].str.contains('|'.join(searchfor)))) & \\\n",
    "                  (data['created'].between('2014-01-01','2019-01-01')) & \\\n",
    "                  (data['num_authors'] < 50) & \\\n",
    "                  (data['num_authors'] > 1)]\n",
    "print(\"selected {} articles\".format(len(papers)))"
   ]
  },
  {
   "cell_type": "raw",
   "metadata": {},
   "source": [
    "papers[papers['author_text'].str.contains('Dummy,')]"
   ]
  },
  {
   "cell_type": "markdown",
   "metadata": {},
   "source": [
    "### Extract and parse author names"
   ]
  },
  {
   "cell_type": "code",
   "execution_count": 48,
   "metadata": {
    "collapsed": false
   },
   "outputs": [
    {
     "name": "stdout",
     "output_type": "stream",
     "text": [
      "there are 3910 authors\n"
     ]
    }
   ],
   "source": [
    "names = map(str.strip,','.join(papers['author_text']).split(','))\n",
    "names = list(set(names)) # remove duplicates\n",
    "formatted_names = [HumanName(n) for n in names]\n",
    "print(\"there are {} authors\".format(len(formatted_names)))"
   ]
  },
  {
   "cell_type": "markdown",
   "metadata": {},
   "source": [
    "### Produce a final, cleaned list of the authors' last names "
   ]
  },
  {
   "cell_type": "code",
   "execution_count": 53,
   "metadata": {
    "collapsed": false
   },
   "outputs": [
    {
     "name": "stdout",
     "output_type": "stream",
     "text": [
      "there are 2860 authors in the cleaned list\n"
     ]
    }
   ],
   "source": [
    "tag_names = ['-'.join((n.first[0],n.last)) if n.first \\\n",
    "              else '-'.join(('XX',n.last)) \\\n",
    "              for n in formatted_names]\n",
    "tag_names = list(set(tag_names))  # remove duplicates\n",
    "IMPROPER_NAMES = ('Collaboration', 'collaboration')\n",
    "for t in tag_names: # ad-hoc fix for this type of entry\n",
    "    if any([n in t for n in IMPROPER_NAMES]):\n",
    "        tag_names.remove(t)\n",
    "print(\"there are {} authors in the cleaned list\".format(len(last_names)))"
   ]
  },
  {
   "cell_type": "markdown",
   "metadata": {},
   "source": [
    "### Create authors' graph"
   ]
  },
  {
   "cell_type": "code",
   "execution_count": 55,
   "metadata": {
    "collapsed": false
   },
   "outputs": [],
   "source": [
    "collaborators = nx.Graph()\n",
    "collaborators.add_nodes_from(tag_names, weight=0)"
   ]
  },
  {
   "cell_type": "markdown",
   "metadata": {},
   "source": [
    "### Create edges in graph for co-authors"
   ]
  },
  {
   "cell_type": "code",
   "execution_count": 61,
   "metadata": {
    "collapsed": false
   },
   "outputs": [
    {
     "name": "stdout",
     "output_type": "stream",
     "text": [
      "Found duplicate in 1503.08751!: A-Stabile = A-Stabile\n",
      "Found duplicate in 1512.02076!: Y-Wang = Y-Wang\n",
      "Found duplicate in 1601.02357!: S-Banerjee = S-Banerjee\n",
      "Found duplicate in 1602.07198!: S-Chakraborty = S-Chakraborty\n",
      "Found duplicate in 1602.08514!: S-Chakraborty = S-Chakraborty\n",
      "Found duplicate in 1702.08187!: W-Ni = W-Ni\n",
      "Found duplicate in 1704.06784!: A-Ghosh = A-Ghosh\n",
      "Found duplicate in 1711.0773!: Q-Wang = Q-Wang\n",
      "Found duplicate in 1804.08379!: X-Zhang = X-Zhang\n"
     ]
    }
   ],
   "source": [
    "for index, p in papers.iterrows():\n",
    "    byline = [HumanName(n) for n in p['author_text'].split(',')]\n",
    "    authors = ['-'.join((n.first[0],n.last)) if n.first \\\n",
    "                      else '-'.join(('XX',n.last)) \\\n",
    "                      for n in byline]\n",
    "    for author in authors:\n",
    "        if author not in tag_names:\n",
    "            continue\n",
    "        collaborators.nodes[author]['weight'] += 1\n",
    "    for pair in itertools.combinations(authors, 2):\n",
    "        if any(a not in tag_names for a in pair):\n",
    "            continue\n",
    "        if pair[0] == pair[1]:\n",
    "            print(\"Found duplicate in {}!: {} = {}\".format(p['arxiv_id'],pair[0],pair[1]))\n",
    "            continue\n",
    "        if collaborators.has_edge(*pair):\n",
    "            collaborators.edges[pair[0],pair[1]]['weight'] += 1\n",
    "        else:\n",
    "            collaborators.add_edge(*pair, weight=1)"
   ]
  },
  {
   "cell_type": "code",
   "execution_count": 62,
   "metadata": {
    "collapsed": false
   },
   "outputs": [
    {
     "name": "stdout",
     "output_type": "stream",
     "text": [
      "The collab graph has 3285 nodes and 19053 edges\n"
     ]
    }
   ],
   "source": [
    "print('The collab graph has {} nodes and {} edges'.format(collaborators.number_of_nodes(), \\\n",
    "                                                          collaborators.number_of_edges()))\n",
    "#print(collaborators.nodes, collaborators.edges)"
   ]
  },
  {
   "cell_type": "markdown",
   "metadata": {},
   "source": [
    "### Quick view"
   ]
  },
  {
   "cell_type": "code",
   "execution_count": 63,
   "metadata": {
    "collapsed": false
   },
   "outputs": [
    {
     "data": {
      "image/png": "[encoded data removed]",
      "text/plain": [
       "<Figure size 432x288 with 1 Axes>"
      ]
     },
     "metadata": {},
     "output_type": "display_data"
    }
   ],
   "source": [
    "d = dict(collaborators.degree)\n",
    "nx.draw(collaborators, labelsnodelist=d.keys(), node_size=[v for v in d.values()])"
   ]
  },
  {
   "cell_type": "raw",
   "metadata": {},
   "source": [
    "collaborators.degree()"
   ]
  },
  {
   "cell_type": "code",
   "execution_count": 64,
   "metadata": {
    "collapsed": false
   },
   "outputs": [
    {
     "data": {
      "text/plain": [
       "Text(0.5, 0, 'Degree')"
      ]
     },
     "execution_count": 64,
     "metadata": {},
     "output_type": "execute_result"
    },
    {
     "data": {
      "image/png": "[encoded data removed]",
      "text/plain": [
       "<Figure size 432x288 with 1 Axes>"
      ]
     },
     "metadata": {
      "needs_background": "light"
     },
     "output_type": "display_data"
    }
   ],
   "source": [
    "degree_sequence = sorted([d for n, d in collaborators.degree()], reverse=True)\n",
    "degreeCount = collections.Counter(degree_sequence)\n",
    "deg, cnt = zip(*degreeCount.items())\n",
    "plt.bar(deg, cnt)\n",
    "plt.ylabel(\"Count\")\n",
    "plt.xlabel(\"Degree\")"
   ]
  },
  {
   "cell_type": "markdown",
   "metadata": {},
   "source": [
    "### Export graph to GML file"
   ]
  },
  {
   "cell_type": "code",
   "execution_count": 65,
   "metadata": {
    "collapsed": true
   },
   "outputs": [],
   "source": [
    " nx.write_gml(collaborators, \"gw-arxiv.gml\")"
   ]
  },
  {
   "cell_type": "code",
   "execution_count": null,
   "metadata": {
    "collapsed": true
   },
   "outputs": [],
   "source": []
  },
  {
   "cell_type": "code",
   "execution_count": null,
   "metadata": {
    "collapsed": true
   },
   "outputs": [],
   "source": []
  }
 ],
 "metadata": {
  "kernelspec": {
   "display_name": "arxiv-proc",
   "language": "python",
   "name": "arxiv-proc"
  },
  "language_info": {
   "codemirror_mode": {
    "name": "ipython",
    "version": 3
   },
   "file_extension": ".py",
   "mimetype": "text/x-python",
   "name": "python",
   "nbconvert_exporter": "python",
   "pygments_lexer": "ipython3",
   "version": "3.5.3"
  }
 },
 "nbformat": 4,
 "nbformat_minor": 2
}
